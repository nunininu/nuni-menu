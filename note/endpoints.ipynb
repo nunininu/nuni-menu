{
 "cells": [
  {
   "cell_type": "code",
   "execution_count": 79,
   "id": "6a0275cf-6ffa-4fd2-aae6-b9a46201e08e",
   "metadata": {},
   "outputs": [],
   "source": [
    "import pandas as pd\n",
    "import requests\n",
    "\n",
    "EP = \"https://raw.githubusercontent.com/ppabam/nextjs-fastapi-starter/refs/heads/main/endpoints.json\""
   ]
  },
  {
   "cell_type": "code",
   "execution_count": 80,
   "id": "95f62636-cfa1-4fe7-af32-f3454fc904fd",
   "metadata": {},
   "outputs": [],
   "source": [
    "res = requests.get(EP)"
   ]
  },
  {
   "cell_type": "code",
   "execution_count": 9,
   "id": "397d122f-35d0-4538-a0b6-5cc0283bd84a",
   "metadata": {},
   "outputs": [],
   "source": [
    "#res.status_code"
   ]
  },
  {
   "cell_type": "code",
   "execution_count": 10,
   "id": "99431a33-d611-402f-a126-dacbbbbf3c85",
   "metadata": {},
   "outputs": [],
   "source": [
    "#res.encoding"
   ]
  },
  {
   "cell_type": "code",
   "execution_count": 11,
   "id": "28b5ed91-ddb4-4d4a-b726-56fca4141111",
   "metadata": {},
   "outputs": [],
   "source": [
    "#res.text"
   ]
  },
  {
   "cell_type": "code",
   "execution_count": 12,
   "id": "61ef1e31-91bc-4a52-a870-f7e11529be15",
   "metadata": {},
   "outputs": [],
   "source": [
    "#res.json()"
   ]
  },
  {
   "cell_type": "code",
   "execution_count": 81,
   "id": "07f85525-19ec-4c16-ae70-39e3f8a95a48",
   "metadata": {},
   "outputs": [],
   "source": [
    "data = res.json()"
   ]
  },
  {
   "cell_type": "code",
   "execution_count": 82,
   "id": "728471fb-fea1-4e22-89c7-bdba095010a5",
   "metadata": {},
   "outputs": [
    {
     "data": {
      "text/plain": [
       "dict"
      ]
     },
     "execution_count": 82,
     "metadata": {},
     "output_type": "execute_result"
    }
   ],
   "source": [
    "type(data)"
   ]
  },
  {
   "cell_type": "code",
   "execution_count": 83,
   "id": "da2880f5-5fc6-4d50-9328-17a1612c7da8",
   "metadata": {},
   "outputs": [],
   "source": [
    "endpoints = data['endpoints']"
   ]
  },
  {
   "cell_type": "code",
   "execution_count": 84,
   "id": "779f9e5f-2345-45c3-934c-f576875ce0b5",
   "metadata": {},
   "outputs": [
    {
     "data": {
      "text/plain": [
       "list"
      ]
     },
     "execution_count": 84,
     "metadata": {},
     "output_type": "execute_result"
    }
   ],
   "source": [
    "type(endpoints)"
   ]
  },
  {
   "cell_type": "code",
   "execution_count": 85,
   "id": "57a96dd9-ecae-41a7-8a87-cedf31609358",
   "metadata": {},
   "outputs": [
    {
     "name": "stdout",
     "output_type": "stream",
     "text": [
      "TOM, https://ac.sunsin.shop/api/py/select_all\n",
      "jiwon, https://agecal.wodan10.shop/api/py/select_all\n",
      "heejin, https://age.journeyjean.shop/api/py/select_all\n",
      "hyun, https://agecalculator.calcalhan.store/api/py/select_all\n",
      "cho, https://nextjs-fastapi-starter-5j3bemub7-chominkyus-projects.vercel.app/api/py/select_all\n",
      "jacob, https://jacob0503.vercel.app/api/py/select_table\n",
      "nuni, https://ac.nunininu.shop/api/py/select_all\n",
      "lucas, https://ac.lucas12.store/api/py/select_all\n",
      "SEO, https://ac.seo-sigma.shop/api/py/select_all\n",
      "JERRY, https://jooon.vercel.app/api/py/select_all\n"
     ]
    }
   ],
   "source": [
    "for p in endpoints:\n",
    "    print(f'{p[\"name\"]}, {p[\"url\"]}')  #안에 큰따옴표 쓸거면 밖은 작은따옴표 써야함 -> f' 이렇게"
   ]
  },
  {
   "cell_type": "code",
   "execution_count": 86,
   "id": "24325286-a484-4500-92e6-bc10261eb994",
   "metadata": {},
   "outputs": [
    {
     "data": {
      "text/html": [
       "<div>\n",
       "<style scoped>\n",
       "    .dataframe tbody tr th:only-of-type {\n",
       "        vertical-align: middle;\n",
       "    }\n",
       "\n",
       "    .dataframe tbody tr th {\n",
       "        vertical-align: top;\n",
       "    }\n",
       "\n",
       "    .dataframe thead th {\n",
       "        text-align: right;\n",
       "    }\n",
       "</style>\n",
       "<table border=\"1\" class=\"dataframe\">\n",
       "  <thead>\n",
       "    <tr style=\"text-align: right;\">\n",
       "      <th></th>\n",
       "      <th>menu_name</th>\n",
       "      <th>name</th>\n",
       "      <th>dt</th>\n",
       "    </tr>\n",
       "  </thead>\n",
       "  <tbody>\n",
       "    <tr>\n",
       "      <th>0</th>\n",
       "      <td>크림소스에버무린파스타그런데이제양송이를곁들인</td>\n",
       "      <td>nuni</td>\n",
       "      <td>2025-02-06</td>\n",
       "    </tr>\n",
       "  </tbody>\n",
       "</table>\n",
       "</div>"
      ],
      "text/plain": [
       "                 menu_name  name          dt\n",
       "0  크림소스에버무린파스타그런데이제양송이를곁들인  nuni  2025-02-06"
      ]
     },
     "execution_count": 86,
     "metadata": {},
     "output_type": "execute_result"
    }
   ],
   "source": [
    "# df_nuni = \n",
    "# df_jacob = \n",
    "res = requests.get(\"https://ac.nunininu.shop/api/py/select_all\")\n",
    "# res.status_code\n",
    "data = res.json()\n",
    "df_nuni = pd.DataFrame(data)\n",
    "df_nuni.head(1)"
   ]
  },
  {
   "cell_type": "code",
   "execution_count": 87,
   "id": "fe2bab4b-38d3-484e-a0a3-32e222ee2d4f",
   "metadata": {
    "scrolled": true
   },
   "outputs": [
    {
     "data": {
      "text/html": [
       "<div>\n",
       "<style scoped>\n",
       "    .dataframe tbody tr th:only-of-type {\n",
       "        vertical-align: middle;\n",
       "    }\n",
       "\n",
       "    .dataframe tbody tr th {\n",
       "        vertical-align: top;\n",
       "    }\n",
       "\n",
       "    .dataframe thead th {\n",
       "        text-align: right;\n",
       "    }\n",
       "</style>\n",
       "<table border=\"1\" class=\"dataframe\">\n",
       "  <thead>\n",
       "    <tr style=\"text-align: right;\">\n",
       "      <th></th>\n",
       "      <th>menu</th>\n",
       "      <th>ename</th>\n",
       "      <th>dt</th>\n",
       "    </tr>\n",
       "  </thead>\n",
       "  <tbody>\n",
       "    <tr>\n",
       "      <th>0</th>\n",
       "      <td>짜장면</td>\n",
       "      <td>TOM</td>\n",
       "      <td>2025-02-03</td>\n",
       "    </tr>\n",
       "  </tbody>\n",
       "</table>\n",
       "</div>"
      ],
      "text/plain": [
       "  menu ename          dt\n",
       "0  짜장면   TOM  2025-02-03"
      ]
     },
     "execution_count": 87,
     "metadata": {},
     "output_type": "execute_result"
    }
   ],
   "source": [
    "# df_nuni = \n",
    "# df_jacob = \n",
    "res = requests.get(\"https://jacob0503.vercel.app/api/py/select_table\")\n",
    "# res.status_code\n",
    "data = res.json()\n",
    "df_jacob = pd.DataFrame(data)\n",
    "df_jacob.head(1)"
   ]
  },
  {
   "cell_type": "code",
   "execution_count": 94,
   "id": "a9151d57-3ca3-4520-8ecd-8e6f65f2e5c7",
   "metadata": {},
   "outputs": [],
   "source": [
    "import pandas as pd # 좀더 쉬운 데이터\n",
    "\n",
    "df1 = pd.DataFrame({\"id\": [1, 2, 3], \"name\": [\"KIM\", \"MIN\", \"LEE\"]})\n",
    "df2 = pd.DataFrame({\"id\": [2, 3, 4], \"name\": [\"MIN\", \"LEE\", \"PARK\"]})"
   ]
  },
  {
   "cell_type": "code",
   "execution_count": 96,
   "id": "968a1631-cd37-48d7-ba19-9c2ca2af4e1d",
   "metadata": {},
   "outputs": [],
   "source": [
    "# 나의 df에 없는 row를 찾아 서 새로운 df 만들기\n",
    "\n",
    "new_rows = []\n",
    "\n",
    "for _, row_2 in df2.iterrows():\n",
    "    is_match_row = False\n",
    "    for _, row_1 in df1.iterrows():\n",
    "        is_match_columns = True\n",
    "        for c_name in df1.columns:\n",
    "            if row_2[c_name] != row_1[c_name]:\n",
    "                is_match_columns = False\n",
    "                break\n",
    "            \n",
    "        if is_match_columns: \n",
    "            is_match_row = True\n",
    "    \n",
    "    if not is_match_row:\n",
    "        new_rows.append(row_2)\n",
    "\n",
    "    #if is_match_row:\n",
    "    #    pass\n",
    "    #else:\n",
    "    #    new_rows.append(row2)\n",
    "\n",
    "df_new = pd.DataFrame(new_rows)"
   ]
  },
  {
   "cell_type": "code",
   "execution_count": 97,
   "id": "91b147e1-1051-4d47-9b48-e7642904ac80",
   "metadata": {},
   "outputs": [
    {
     "name": "stdout",
     "output_type": "stream",
     "text": [
      "   id  name\n",
      "2   4  PARK\n"
     ]
    }
   ],
   "source": [
    "print(df_new)"
   ]
  },
  {
   "cell_type": "code",
   "execution_count": 93,
   "id": "61b89b6f-ab12-4314-ab24-45c9d76f97df",
   "metadata": {
    "collapsed": true,
    "jupyter": {
     "outputs_hidden": true
    }
   },
   "outputs": [
    {
     "ename": "KeyError",
     "evalue": "'c_name'",
     "output_type": "error",
     "traceback": [
      "\u001b[0;31m---------------------------------------------------------------------------\u001b[0m",
      "\u001b[0;31mKeyError\u001b[0m                                  Traceback (most recent call last)",
      "File \u001b[0;32m~/code/nuni-menu/.venv/lib/python3.10/site-packages/pandas/core/indexes/base.py:3805\u001b[0m, in \u001b[0;36mIndex.get_loc\u001b[0;34m(self, key)\u001b[0m\n\u001b[1;32m   3804\u001b[0m \u001b[38;5;28;01mtry\u001b[39;00m:\n\u001b[0;32m-> 3805\u001b[0m     \u001b[38;5;28;01mreturn\u001b[39;00m \u001b[38;5;28;43mself\u001b[39;49m\u001b[38;5;241;43m.\u001b[39;49m\u001b[43m_engine\u001b[49m\u001b[38;5;241;43m.\u001b[39;49m\u001b[43mget_loc\u001b[49m\u001b[43m(\u001b[49m\u001b[43mcasted_key\u001b[49m\u001b[43m)\u001b[49m\n\u001b[1;32m   3806\u001b[0m \u001b[38;5;28;01mexcept\u001b[39;00m \u001b[38;5;167;01mKeyError\u001b[39;00m \u001b[38;5;28;01mas\u001b[39;00m err:\n",
      "File \u001b[0;32mindex.pyx:167\u001b[0m, in \u001b[0;36mpandas._libs.index.IndexEngine.get_loc\u001b[0;34m()\u001b[0m\n",
      "File \u001b[0;32mindex.pyx:196\u001b[0m, in \u001b[0;36mpandas._libs.index.IndexEngine.get_loc\u001b[0;34m()\u001b[0m\n",
      "File \u001b[0;32mpandas/_libs/hashtable_class_helper.pxi:7081\u001b[0m, in \u001b[0;36mpandas._libs.hashtable.PyObjectHashTable.get_item\u001b[0;34m()\u001b[0m\n",
      "File \u001b[0;32mpandas/_libs/hashtable_class_helper.pxi:7089\u001b[0m, in \u001b[0;36mpandas._libs.hashtable.PyObjectHashTable.get_item\u001b[0;34m()\u001b[0m\n",
      "\u001b[0;31mKeyError\u001b[0m: 'c_name'",
      "\nThe above exception was the direct cause of the following exception:\n",
      "\u001b[0;31mKeyError\u001b[0m                                  Traceback (most recent call last)",
      "Cell \u001b[0;32mIn[93], line 9\u001b[0m\n\u001b[1;32m      7\u001b[0m     is_match_columns \u001b[38;5;241m=\u001b[39m \u001b[38;5;28;01mTrue\u001b[39;00m\n\u001b[1;32m      8\u001b[0m     \u001b[38;5;28;01mfor\u001b[39;00m c_name \u001b[38;5;129;01min\u001b[39;00m df_nuni\u001b[38;5;241m.\u001b[39mcolumns:\n\u001b[0;32m----> 9\u001b[0m         \u001b[38;5;28;01mif\u001b[39;00m \u001b[43mrow_j\u001b[49m\u001b[43m[\u001b[49m\u001b[38;5;124;43m'\u001b[39;49m\u001b[38;5;124;43mc_name\u001b[39;49m\u001b[38;5;124;43m'\u001b[39;49m\u001b[43m]\u001b[49m \u001b[38;5;241m!=\u001b[39m row_n[\u001b[38;5;124m'\u001b[39m\u001b[38;5;124mc_name\u001b[39m\u001b[38;5;124m'\u001b[39m]:\n\u001b[1;32m     10\u001b[0m             \u001b[38;5;28;01mpass\u001b[39;00m\n\u001b[1;32m     12\u001b[0m \u001b[38;5;28;01mif\u001b[39;00m \u001b[38;5;129;01mnot\u001b[39;00m is_match_row:\n",
      "File \u001b[0;32m~/code/nuni-menu/.venv/lib/python3.10/site-packages/pandas/core/series.py:1121\u001b[0m, in \u001b[0;36mSeries.__getitem__\u001b[0;34m(self, key)\u001b[0m\n\u001b[1;32m   1118\u001b[0m     \u001b[38;5;28;01mreturn\u001b[39;00m \u001b[38;5;28mself\u001b[39m\u001b[38;5;241m.\u001b[39m_values[key]\n\u001b[1;32m   1120\u001b[0m \u001b[38;5;28;01melif\u001b[39;00m key_is_scalar:\n\u001b[0;32m-> 1121\u001b[0m     \u001b[38;5;28;01mreturn\u001b[39;00m \u001b[38;5;28;43mself\u001b[39;49m\u001b[38;5;241;43m.\u001b[39;49m\u001b[43m_get_value\u001b[49m\u001b[43m(\u001b[49m\u001b[43mkey\u001b[49m\u001b[43m)\u001b[49m\n\u001b[1;32m   1123\u001b[0m \u001b[38;5;66;03m# Convert generator to list before going through hashable part\u001b[39;00m\n\u001b[1;32m   1124\u001b[0m \u001b[38;5;66;03m# (We will iterate through the generator there to check for slices)\u001b[39;00m\n\u001b[1;32m   1125\u001b[0m \u001b[38;5;28;01mif\u001b[39;00m is_iterator(key):\n",
      "File \u001b[0;32m~/code/nuni-menu/.venv/lib/python3.10/site-packages/pandas/core/series.py:1237\u001b[0m, in \u001b[0;36mSeries._get_value\u001b[0;34m(self, label, takeable)\u001b[0m\n\u001b[1;32m   1234\u001b[0m     \u001b[38;5;28;01mreturn\u001b[39;00m \u001b[38;5;28mself\u001b[39m\u001b[38;5;241m.\u001b[39m_values[label]\n\u001b[1;32m   1236\u001b[0m \u001b[38;5;66;03m# Similar to Index.get_value, but we do not fall back to positional\u001b[39;00m\n\u001b[0;32m-> 1237\u001b[0m loc \u001b[38;5;241m=\u001b[39m \u001b[38;5;28;43mself\u001b[39;49m\u001b[38;5;241;43m.\u001b[39;49m\u001b[43mindex\u001b[49m\u001b[38;5;241;43m.\u001b[39;49m\u001b[43mget_loc\u001b[49m\u001b[43m(\u001b[49m\u001b[43mlabel\u001b[49m\u001b[43m)\u001b[49m\n\u001b[1;32m   1239\u001b[0m \u001b[38;5;28;01mif\u001b[39;00m is_integer(loc):\n\u001b[1;32m   1240\u001b[0m     \u001b[38;5;28;01mreturn\u001b[39;00m \u001b[38;5;28mself\u001b[39m\u001b[38;5;241m.\u001b[39m_values[loc]\n",
      "File \u001b[0;32m~/code/nuni-menu/.venv/lib/python3.10/site-packages/pandas/core/indexes/base.py:3812\u001b[0m, in \u001b[0;36mIndex.get_loc\u001b[0;34m(self, key)\u001b[0m\n\u001b[1;32m   3807\u001b[0m     \u001b[38;5;28;01mif\u001b[39;00m \u001b[38;5;28misinstance\u001b[39m(casted_key, \u001b[38;5;28mslice\u001b[39m) \u001b[38;5;129;01mor\u001b[39;00m (\n\u001b[1;32m   3808\u001b[0m         \u001b[38;5;28misinstance\u001b[39m(casted_key, abc\u001b[38;5;241m.\u001b[39mIterable)\n\u001b[1;32m   3809\u001b[0m         \u001b[38;5;129;01mand\u001b[39;00m \u001b[38;5;28many\u001b[39m(\u001b[38;5;28misinstance\u001b[39m(x, \u001b[38;5;28mslice\u001b[39m) \u001b[38;5;28;01mfor\u001b[39;00m x \u001b[38;5;129;01min\u001b[39;00m casted_key)\n\u001b[1;32m   3810\u001b[0m     ):\n\u001b[1;32m   3811\u001b[0m         \u001b[38;5;28;01mraise\u001b[39;00m InvalidIndexError(key)\n\u001b[0;32m-> 3812\u001b[0m     \u001b[38;5;28;01mraise\u001b[39;00m \u001b[38;5;167;01mKeyError\u001b[39;00m(key) \u001b[38;5;28;01mfrom\u001b[39;00m\u001b[38;5;250m \u001b[39m\u001b[38;5;21;01merr\u001b[39;00m\n\u001b[1;32m   3813\u001b[0m \u001b[38;5;28;01mexcept\u001b[39;00m \u001b[38;5;167;01mTypeError\u001b[39;00m:\n\u001b[1;32m   3814\u001b[0m     \u001b[38;5;66;03m# If we have a listlike key, _check_indexing_error will raise\u001b[39;00m\n\u001b[1;32m   3815\u001b[0m     \u001b[38;5;66;03m#  InvalidIndexError. Otherwise we fall through and re-raise\u001b[39;00m\n\u001b[1;32m   3816\u001b[0m     \u001b[38;5;66;03m#  the TypeError.\u001b[39;00m\n\u001b[1;32m   3817\u001b[0m     \u001b[38;5;28mself\u001b[39m\u001b[38;5;241m.\u001b[39m_check_indexing_error(key)\n",
      "\u001b[0;31mKeyError\u001b[0m: 'c_name'"
     ]
    }
   ],
   "source": [
    "# 나의 df에 없는 row를 찾아 서 새로운 df 만들기\n",
    "\n",
    "# new_rows = []\n",
    "# for _, row_j in df_jacob.iterrows():\n",
    "#     is_match_row = True\n",
    "#     for _, row_n in df_nuni.iterrows():\n",
    "#         is_match_columns = True\n",
    "#         for c_name in df_nuni.columns:\n",
    "#             if row_j['c_name'] != row_n['c_name']:\n",
    "#                 pass\n",
    "            \n",
    "#     if not is_match_row:\n",
    "#         now_rows.append(row)\n",
    "\n",
    "# df_new = pd.DataFrame(new_rows)  --코드 다시 살펴봐야함"
   ]
  },
  {
   "cell_type": "code",
   "execution_count": 98,
   "id": "d661ebdd-4136-4e32-bb93-51cfa9045eff",
   "metadata": {},
   "outputs": [],
   "source": [
    "# pandas merge 기능 사용한 코드 SQL에서 right join과 유사.\n",
    "\n",
    "merge_df = pd.merge(df1, df2, how='right', indicator=True)"
   ]
  },
  {
   "cell_type": "code",
   "execution_count": 108,
   "id": "90df2374-4c1b-434c-b6ca-14f5149f5eae",
   "metadata": {
    "scrolled": true
   },
   "outputs": [
    {
     "data": {
      "text/html": [
       "<div>\n",
       "<style scoped>\n",
       "    .dataframe tbody tr th:only-of-type {\n",
       "        vertical-align: middle;\n",
       "    }\n",
       "\n",
       "    .dataframe tbody tr th {\n",
       "        vertical-align: top;\n",
       "    }\n",
       "\n",
       "    .dataframe thead th {\n",
       "        text-align: right;\n",
       "    }\n",
       "</style>\n",
       "<table border=\"1\" class=\"dataframe\">\n",
       "  <thead>\n",
       "    <tr style=\"text-align: right;\">\n",
       "      <th></th>\n",
       "      <th>id</th>\n",
       "      <th>name</th>\n",
       "      <th>_merge</th>\n",
       "    </tr>\n",
       "  </thead>\n",
       "  <tbody>\n",
       "    <tr>\n",
       "      <th>0</th>\n",
       "      <td>1</td>\n",
       "      <td>KIM</td>\n",
       "      <td>left_only</td>\n",
       "    </tr>\n",
       "    <tr>\n",
       "      <th>1</th>\n",
       "      <td>2</td>\n",
       "      <td>MIN</td>\n",
       "      <td>both</td>\n",
       "    </tr>\n",
       "    <tr>\n",
       "      <th>2</th>\n",
       "      <td>3</td>\n",
       "      <td>LEE</td>\n",
       "      <td>both</td>\n",
       "    </tr>\n",
       "  </tbody>\n",
       "</table>\n",
       "</div>"
      ],
      "text/plain": [
       "   id name     _merge\n",
       "0   1  KIM  left_only\n",
       "1   2  MIN       both\n",
       "2   3  LEE       both"
      ]
     },
     "execution_count": 108,
     "metadata": {},
     "output_type": "execute_result"
    }
   ],
   "source": [
    "merge_df"
   ]
  },
  {
   "cell_type": "code",
   "execution_count": 106,
   "id": "fd562e09-29c4-4661-8326-962ec4a4ece9",
   "metadata": {},
   "outputs": [],
   "source": [
    "# pandas merge 기능 사용한 코드 . SQL에서 left join과 유사.\n",
    "\n",
    "merge_df = pd.merge(df1, df2, how='left', indicator=True)"
   ]
  },
  {
   "cell_type": "code",
   "execution_count": 109,
   "id": "30a53b96-8deb-42d3-8b19-bf538c912c9e",
   "metadata": {},
   "outputs": [
    {
     "data": {
      "text/html": [
       "<div>\n",
       "<style scoped>\n",
       "    .dataframe tbody tr th:only-of-type {\n",
       "        vertical-align: middle;\n",
       "    }\n",
       "\n",
       "    .dataframe tbody tr th {\n",
       "        vertical-align: top;\n",
       "    }\n",
       "\n",
       "    .dataframe thead th {\n",
       "        text-align: right;\n",
       "    }\n",
       "</style>\n",
       "<table border=\"1\" class=\"dataframe\">\n",
       "  <thead>\n",
       "    <tr style=\"text-align: right;\">\n",
       "      <th></th>\n",
       "      <th>id</th>\n",
       "      <th>name</th>\n",
       "      <th>_merge</th>\n",
       "    </tr>\n",
       "  </thead>\n",
       "  <tbody>\n",
       "    <tr>\n",
       "      <th>0</th>\n",
       "      <td>1</td>\n",
       "      <td>KIM</td>\n",
       "      <td>left_only</td>\n",
       "    </tr>\n",
       "    <tr>\n",
       "      <th>1</th>\n",
       "      <td>2</td>\n",
       "      <td>MIN</td>\n",
       "      <td>both</td>\n",
       "    </tr>\n",
       "    <tr>\n",
       "      <th>2</th>\n",
       "      <td>3</td>\n",
       "      <td>LEE</td>\n",
       "      <td>both</td>\n",
       "    </tr>\n",
       "  </tbody>\n",
       "</table>\n",
       "</div>"
      ],
      "text/plain": [
       "   id name     _merge\n",
       "0   1  KIM  left_only\n",
       "1   2  MIN       both\n",
       "2   3  LEE       both"
      ]
     },
     "execution_count": 109,
     "metadata": {},
     "output_type": "execute_result"
    }
   ],
   "source": [
    "merge_df"
   ]
  },
  {
   "cell_type": "code",
   "execution_count": 110,
   "id": "c32c8125-1571-4ba3-af2c-3d2858892030",
   "metadata": {},
   "outputs": [],
   "source": [
    "# _merge == right_only인 것만 남기고\n",
    "# _merge 컬럼은 지우고\n",
    "merge_df = pd.merge(df1, df2, how='right', indicator=True)"
   ]
  },
  {
   "cell_type": "code",
   "execution_count": 114,
   "id": "d2c56f9a-ba8b-44fa-b9be-5dfc0f0d13c2",
   "metadata": {},
   "outputs": [
    {
     "data": {
      "text/html": [
       "<div>\n",
       "<style scoped>\n",
       "    .dataframe tbody tr th:only-of-type {\n",
       "        vertical-align: middle;\n",
       "    }\n",
       "\n",
       "    .dataframe tbody tr th {\n",
       "        vertical-align: top;\n",
       "    }\n",
       "\n",
       "    .dataframe thead th {\n",
       "        text-align: right;\n",
       "    }\n",
       "</style>\n",
       "<table border=\"1\" class=\"dataframe\">\n",
       "  <thead>\n",
       "    <tr style=\"text-align: right;\">\n",
       "      <th></th>\n",
       "      <th>id</th>\n",
       "      <th>name</th>\n",
       "    </tr>\n",
       "  </thead>\n",
       "  <tbody>\n",
       "    <tr>\n",
       "      <th>2</th>\n",
       "      <td>4</td>\n",
       "      <td>PARK</td>\n",
       "    </tr>\n",
       "  </tbody>\n",
       "</table>\n",
       "</div>"
      ],
      "text/plain": [
       "   id  name\n",
       "2   4  PARK"
      ]
     },
     "execution_count": 114,
     "metadata": {},
     "output_type": "execute_result"
    }
   ],
   "source": [
    "diff_df = merge_df[merge_df['_merge'] == 'right_only'].drop('_merge', axis=1)\n",
    "diff_df"
   ]
  },
  {
   "cell_type": "code",
   "execution_count": 117,
   "id": "aba352f5-4151-4481-8bc9-416345ea29a4",
   "metadata": {},
   "outputs": [
    {
     "data": {
      "text/html": [
       "<div>\n",
       "<style scoped>\n",
       "    .dataframe tbody tr th:only-of-type {\n",
       "        vertical-align: middle;\n",
       "    }\n",
       "\n",
       "    .dataframe tbody tr th {\n",
       "        vertical-align: top;\n",
       "    }\n",
       "\n",
       "    .dataframe thead th {\n",
       "        text-align: right;\n",
       "    }\n",
       "</style>\n",
       "<table border=\"1\" class=\"dataframe\">\n",
       "  <thead>\n",
       "    <tr style=\"text-align: right;\">\n",
       "      <th></th>\n",
       "      <th>id</th>\n",
       "      <th>name</th>\n",
       "      <th>_merge</th>\n",
       "    </tr>\n",
       "  </thead>\n",
       "  <tbody>\n",
       "    <tr>\n",
       "      <th>0</th>\n",
       "      <td>2</td>\n",
       "      <td>MIN</td>\n",
       "      <td>both</td>\n",
       "    </tr>\n",
       "    <tr>\n",
       "      <th>1</th>\n",
       "      <td>3</td>\n",
       "      <td>LEE</td>\n",
       "      <td>both</td>\n",
       "    </tr>\n",
       "  </tbody>\n",
       "</table>\n",
       "</div>"
      ],
      "text/plain": [
       "   id name _merge\n",
       "0   2  MIN   both\n",
       "1   3  LEE   both"
      ]
     },
     "execution_count": 117,
     "metadata": {},
     "output_type": "execute_result"
    }
   ],
   "source": [
    "# pandas merge 기능 사용한 코드 SQL에서 inner join과 유사.\n",
    "\n",
    "merge_df = pd.merge(df1, df2, how='inner', indicator=True)\n",
    "merge_df"
   ]
  },
  {
   "cell_type": "code",
   "execution_count": 118,
   "id": "1ba2a42b-9899-4d1c-a254-f348ef87806e",
   "metadata": {},
   "outputs": [
    {
     "data": {
      "text/html": [
       "<div>\n",
       "<style scoped>\n",
       "    .dataframe tbody tr th:only-of-type {\n",
       "        vertical-align: middle;\n",
       "    }\n",
       "\n",
       "    .dataframe tbody tr th {\n",
       "        vertical-align: top;\n",
       "    }\n",
       "\n",
       "    .dataframe thead th {\n",
       "        text-align: right;\n",
       "    }\n",
       "</style>\n",
       "<table border=\"1\" class=\"dataframe\">\n",
       "  <thead>\n",
       "    <tr style=\"text-align: right;\">\n",
       "      <th></th>\n",
       "      <th>id</th>\n",
       "      <th>name</th>\n",
       "      <th>_merge</th>\n",
       "    </tr>\n",
       "  </thead>\n",
       "  <tbody>\n",
       "    <tr>\n",
       "      <th>0</th>\n",
       "      <td>1</td>\n",
       "      <td>KIM</td>\n",
       "      <td>left_only</td>\n",
       "    </tr>\n",
       "    <tr>\n",
       "      <th>1</th>\n",
       "      <td>2</td>\n",
       "      <td>MIN</td>\n",
       "      <td>both</td>\n",
       "    </tr>\n",
       "    <tr>\n",
       "      <th>2</th>\n",
       "      <td>3</td>\n",
       "      <td>LEE</td>\n",
       "      <td>both</td>\n",
       "    </tr>\n",
       "    <tr>\n",
       "      <th>3</th>\n",
       "      <td>4</td>\n",
       "      <td>PARK</td>\n",
       "      <td>right_only</td>\n",
       "    </tr>\n",
       "  </tbody>\n",
       "</table>\n",
       "</div>"
      ],
      "text/plain": [
       "   id  name      _merge\n",
       "0   1   KIM   left_only\n",
       "1   2   MIN        both\n",
       "2   3   LEE        both\n",
       "3   4  PARK  right_only"
      ]
     },
     "execution_count": 118,
     "metadata": {},
     "output_type": "execute_result"
    }
   ],
   "source": [
    "# pandas merge 기능 사용한 코드 SQL에서 outer join과 유사.\n",
    "\n",
    "merge_df = pd.merge(df1, df2, how='outer', indicator=True)\n",
    "merge_df"
   ]
  }
 ],
 "metadata": {
  "kernelspec": {
   "display_name": "Python 3 (ipykernel)",
   "language": "python",
   "name": "python3"
  },
  "language_info": {
   "codemirror_mode": {
    "name": "ipython",
    "version": 3
   },
   "file_extension": ".py",
   "mimetype": "text/x-python",
   "name": "python",
   "nbconvert_exporter": "python",
   "pygments_lexer": "ipython3",
   "version": "3.10.12"
  }
 },
 "nbformat": 4,
 "nbformat_minor": 5
}
