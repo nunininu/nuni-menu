{
 "cells": [
  {
   "cell_type": "code",
   "execution_count": 238,
   "id": "6a0275cf-6ffa-4fd2-aae6-b9a46201e08e",
   "metadata": {},
   "outputs": [],
   "source": [
    "import pandas as pd\n",
    "import requests\n",
    "\n",
    "EP = \"https://raw.githubusercontent.com/ppabam/nextjs-fastapi-starter/refs/heads/main/endpoints.json\""
   ]
  },
  {
   "cell_type": "code",
   "execution_count": 239,
   "id": "95f62636-cfa1-4fe7-af32-f3454fc904fd",
   "metadata": {},
   "outputs": [],
   "source": [
    "res = requests.get(EP)"
   ]
  },
  {
   "cell_type": "code",
   "execution_count": 240,
   "id": "397d122f-35d0-4538-a0b6-5cc0283bd84a",
   "metadata": {},
   "outputs": [],
   "source": [
    "#res.status_code"
   ]
  },
  {
   "cell_type": "code",
   "execution_count": 241,
   "id": "99431a33-d611-402f-a126-dacbbbbf3c85",
   "metadata": {},
   "outputs": [],
   "source": [
    "#res.encoding"
   ]
  },
  {
   "cell_type": "code",
   "execution_count": 242,
   "id": "28b5ed91-ddb4-4d4a-b726-56fca4141111",
   "metadata": {},
   "outputs": [],
   "source": [
    "#res.text"
   ]
  },
  {
   "cell_type": "code",
   "execution_count": 243,
   "id": "61ef1e31-91bc-4a52-a870-f7e11529be15",
   "metadata": {},
   "outputs": [],
   "source": [
    "#res.json()"
   ]
  },
  {
   "cell_type": "code",
   "execution_count": 244,
   "id": "07f85525-19ec-4c16-ae70-39e3f8a95a48",
   "metadata": {},
   "outputs": [],
   "source": [
    "data = res.json()"
   ]
  },
  {
   "cell_type": "code",
   "execution_count": 245,
   "id": "728471fb-fea1-4e22-89c7-bdba095010a5",
   "metadata": {},
   "outputs": [
    {
     "data": {
      "text/plain": [
       "dict"
      ]
     },
     "execution_count": 245,
     "metadata": {},
     "output_type": "execute_result"
    }
   ],
   "source": [
    "type(data)"
   ]
  },
  {
   "cell_type": "code",
   "execution_count": 246,
   "id": "da2880f5-5fc6-4d50-9328-17a1612c7da8",
   "metadata": {},
   "outputs": [],
   "source": [
    "endpoints = data['endpoints']"
   ]
  },
  {
   "cell_type": "code",
   "execution_count": 247,
   "id": "779f9e5f-2345-45c3-934c-f576875ce0b5",
   "metadata": {},
   "outputs": [
    {
     "data": {
      "text/plain": [
       "list"
      ]
     },
     "execution_count": 247,
     "metadata": {},
     "output_type": "execute_result"
    }
   ],
   "source": [
    "type(endpoints)"
   ]
  },
  {
   "cell_type": "code",
   "execution_count": 248,
   "id": "57a96dd9-ecae-41a7-8a87-cedf31609358",
   "metadata": {},
   "outputs": [
    {
     "name": "stdout",
     "output_type": "stream",
     "text": [
      "TOM, https://ac.sunsin.shop/api/py/select_all\n",
      "jiwon, https://agecal.wodan10.shop/api/py/select_all\n",
      "heejin, https://age.journeyjean.shop/api/py/select_all\n",
      "hyun, https://agecalculator.calcalhan.store/api/py/select_all\n",
      "cho, https://nextjs-fastapi-starter-5j3bemub7-chominkyus-projects.vercel.app/api/py/select_all\n",
      "jacob, https://jacob0503.vercel.app/api/py/select_table\n",
      "nuni, https://ac.nunininu.shop/api/py/select_all\n",
      "lucas, https://ac.lucas12.store/api/py/select_all\n",
      "SEO, https://ac.seo-sigma.shop/api/py/select_all\n",
      "JERRY, https://jooon.vercel.app/api/py/select_all\n"
     ]
    }
   ],
   "source": [
    "for p in endpoints:\n",
    "    print(f'{p[\"name\"]}, {p[\"url\"]}')  #안에 큰따옴표 쓸거면 밖은 작은따옴표 써야함 -> f' 이렇게"
   ]
  },
  {
   "cell_type": "code",
   "execution_count": 249,
   "id": "24325286-a484-4500-92e6-bc10261eb994",
   "metadata": {},
   "outputs": [
    {
     "data": {
      "text/html": [
       "<div>\n",
       "<style scoped>\n",
       "    .dataframe tbody tr th:only-of-type {\n",
       "        vertical-align: middle;\n",
       "    }\n",
       "\n",
       "    .dataframe tbody tr th {\n",
       "        vertical-align: top;\n",
       "    }\n",
       "\n",
       "    .dataframe thead th {\n",
       "        text-align: right;\n",
       "    }\n",
       "</style>\n",
       "<table border=\"1\" class=\"dataframe\">\n",
       "  <thead>\n",
       "    <tr style=\"text-align: right;\">\n",
       "      <th></th>\n",
       "      <th>menu_name</th>\n",
       "      <th>name</th>\n",
       "      <th>dt</th>\n",
       "    </tr>\n",
       "  </thead>\n",
       "  <tbody>\n",
       "    <tr>\n",
       "      <th>0</th>\n",
       "      <td>크림소스에버무린파스타그런데이제양송이를곁들인</td>\n",
       "      <td>nuni</td>\n",
       "      <td>2025-02-06</td>\n",
       "    </tr>\n",
       "  </tbody>\n",
       "</table>\n",
       "</div>"
      ],
      "text/plain": [
       "                 menu_name  name          dt\n",
       "0  크림소스에버무린파스타그런데이제양송이를곁들인  nuni  2025-02-06"
      ]
     },
     "execution_count": 249,
     "metadata": {},
     "output_type": "execute_result"
    }
   ],
   "source": [
    "# df_nuni = \n",
    "# df_jacob = \n",
    "res = requests.get(\"https://ac.nunininu.shop/api/py/select_all\")\n",
    "# res.status_code\n",
    "data = res.json()\n",
    "df_nuni = pd.DataFrame(data)\n",
    "df_nuni.head(1)"
   ]
  },
  {
   "cell_type": "code",
   "execution_count": 250,
   "id": "fe2bab4b-38d3-484e-a0a3-32e222ee2d4f",
   "metadata": {
    "scrolled": true
   },
   "outputs": [
    {
     "data": {
      "text/html": [
       "<div>\n",
       "<style scoped>\n",
       "    .dataframe tbody tr th:only-of-type {\n",
       "        vertical-align: middle;\n",
       "    }\n",
       "\n",
       "    .dataframe tbody tr th {\n",
       "        vertical-align: top;\n",
       "    }\n",
       "\n",
       "    .dataframe thead th {\n",
       "        text-align: right;\n",
       "    }\n",
       "</style>\n",
       "<table border=\"1\" class=\"dataframe\">\n",
       "  <thead>\n",
       "    <tr style=\"text-align: right;\">\n",
       "      <th></th>\n",
       "      <th>menu</th>\n",
       "      <th>ename</th>\n",
       "      <th>dt</th>\n",
       "    </tr>\n",
       "  </thead>\n",
       "  <tbody>\n",
       "    <tr>\n",
       "      <th>0</th>\n",
       "      <td>짜장면</td>\n",
       "      <td>TOM</td>\n",
       "      <td>2025-02-03</td>\n",
       "    </tr>\n",
       "  </tbody>\n",
       "</table>\n",
       "</div>"
      ],
      "text/plain": [
       "  menu ename          dt\n",
       "0  짜장면   TOM  2025-02-03"
      ]
     },
     "execution_count": 250,
     "metadata": {},
     "output_type": "execute_result"
    }
   ],
   "source": [
    "# df_nuni = \n",
    "# df_jacob = \n",
    "res = requests.get(\"https://jacob0503.vercel.app/api/py/select_table\")\n",
    "# res.status_code\n",
    "data = res.json()\n",
    "df_jacob = pd.DataFrame(data)\n",
    "df_jacob.head(1)"
   ]
  },
  {
   "cell_type": "code",
   "execution_count": 251,
   "id": "91b147e1-1051-4d47-9b48-e7642904ac80",
   "metadata": {},
   "outputs": [
    {
     "name": "stdout",
     "output_type": "stream",
     "text": [
      "   id  name\n",
      "2   4  PARK\n"
     ]
    }
   ],
   "source": [
    "print(df_new)"
   ]
  },
  {
   "cell_type": "code",
   "execution_count": 252,
   "id": "61b89b6f-ab12-4314-ab24-45c9d76f97df",
   "metadata": {},
   "outputs": [],
   "source": [
    "# 나의 df에 없는 row를 찾아 서 새로운 df 만들기\n",
    "\n",
    "# new_rows = []\n",
    "# for _, row_j in df_jacob.iterrows():\n",
    "#     is_match_row = True\n",
    "#     for _, row_n in df_nuni.iterrows():\n",
    "#         is_match_columns = True\n",
    "#         for c_name in df_nuni.columns:\n",
    "#             if row_j['c_name'] != row_n['c_name']:\n",
    "#                 pass\n",
    "            \n",
    "#     if not is_match_row:\n",
    "#         now_rows.append(row)\n",
    "\n",
    "# df_new = pd.DataFrame(new_rows)  --코드 다시 살펴봐야함"
   ]
  },
  {
   "cell_type": "code",
   "execution_count": 253,
   "id": "968a1631-cd37-48d7-ba19-9c2ca2af4e1d",
   "metadata": {},
   "outputs": [],
   "source": [
    "# 나의 df에 없는 row를 찾아 서 새로운 df 만들기\n",
    "\n",
    "new_rows = []\n",
    "\n",
    "for _, row_2 in df2.iterrows():\n",
    "    is_match_row = False\n",
    "    for _, row_1 in df1.iterrows():\n",
    "        is_match_columns = True\n",
    "        for c_name in df1.columns:\n",
    "            if row_2[c_name] != row_1[c_name]:\n",
    "                is_match_columns = False\n",
    "                break\n",
    "            \n",
    "        if is_match_columns: \n",
    "            is_match_row = True\n",
    "    \n",
    "    if not is_match_row:\n",
    "        new_rows.append(row_2)\n",
    "\n",
    "df_new = pd.DataFrame(new_rows)\n",
    "\n",
    "    #if is_match_row:\n",
    "    #    pass\n",
    "    #else:\n",
    "    #    new_rows.append(row2)\n",
    "\n",
    "#df_new = pd.DataFrame(new_rows)"
   ]
  },
  {
   "cell_type": "code",
   "execution_count": 254,
   "id": "a9151d57-3ca3-4520-8ecd-8e6f65f2e5c7",
   "metadata": {},
   "outputs": [],
   "source": [
    "import pandas as pd \n",
    "\n",
    "df1 = pd.DataFrame({\"id\": [1, 2, 3], \"name\": [\"KIM\", \"MIN\", \"LEE\"]})\n",
    "df2 = pd.DataFrame({\"id\": [2, 3, 4, 5], \"name\": [\"MIN\", \"LEE\", \"PARK\", \"TOM\"]})\n",
    "df3 = pd.DataFrame({\"id\": [5, 4, 2, 3], \"name\": [\"TOM\", \"PARK\",\"MIN\", \"LEE\"]})"
   ]
  },
  {
   "cell_type": "code",
   "execution_count": 255,
   "id": "73a04fd7-2a80-4e38-b0ba-ec3bfbafdd10",
   "metadata": {},
   "outputs": [
    {
     "data": {
      "text/html": [
       "<div>\n",
       "<style scoped>\n",
       "    .dataframe tbody tr th:only-of-type {\n",
       "        vertical-align: middle;\n",
       "    }\n",
       "\n",
       "    .dataframe tbody tr th {\n",
       "        vertical-align: top;\n",
       "    }\n",
       "\n",
       "    .dataframe thead th {\n",
       "        text-align: right;\n",
       "    }\n",
       "</style>\n",
       "<table border=\"1\" class=\"dataframe\">\n",
       "  <thead>\n",
       "    <tr style=\"text-align: right;\">\n",
       "      <th></th>\n",
       "      <th>id</th>\n",
       "      <th>name</th>\n",
       "    </tr>\n",
       "  </thead>\n",
       "  <tbody>\n",
       "    <tr>\n",
       "      <th>0</th>\n",
       "      <td>4</td>\n",
       "      <td>PARK</td>\n",
       "    </tr>\n",
       "    <tr>\n",
       "      <th>1</th>\n",
       "      <td>5</td>\n",
       "      <td>TOM</td>\n",
       "    </tr>\n",
       "  </tbody>\n",
       "</table>\n",
       "</div>"
      ],
      "text/plain": [
       "   id  name\n",
       "0   4  PARK\n",
       "1   5   TOM"
      ]
     },
     "execution_count": 255,
     "metadata": {},
     "output_type": "execute_result"
    }
   ],
   "source": [
    "from pandasql import sqldf\n",
    "query = \"\"\"\n",
    "SELECT df2.id, df2.name\n",
    "FROM df2\n",
    "LEFT JOIN df1\n",
    "ON df2.id = df1.id AND df2.name = df1.name\n",
    "WHERE df1.id IS NULL\n",
    "\"\"\"\n",
    "\n",
    "pysqldf = lambda q: sqldf(q, globals())\n",
    "\n",
    "def pysqldf(q):\n",
    "    sqldf(q, locals())\n",
    "\n",
    "df_diff_1 = sqldf(query, locals())\n",
    "df_diff_1"
   ]
  },
  {
   "cell_type": "code",
   "execution_count": 256,
   "id": "bd8f1b13-2d33-42df-98fb-fb48d89f3b4b",
   "metadata": {},
   "outputs": [
    {
     "data": {
      "text/html": [
       "<div>\n",
       "<style scoped>\n",
       "    .dataframe tbody tr th:only-of-type {\n",
       "        vertical-align: middle;\n",
       "    }\n",
       "\n",
       "    .dataframe tbody tr th {\n",
       "        vertical-align: top;\n",
       "    }\n",
       "\n",
       "    .dataframe thead th {\n",
       "        text-align: right;\n",
       "    }\n",
       "</style>\n",
       "<table border=\"1\" class=\"dataframe\">\n",
       "  <thead>\n",
       "    <tr style=\"text-align: right;\">\n",
       "      <th></th>\n",
       "      <th>id</th>\n",
       "      <th>name</th>\n",
       "    </tr>\n",
       "  </thead>\n",
       "  <tbody>\n",
       "    <tr>\n",
       "      <th>2</th>\n",
       "      <td>4</td>\n",
       "      <td>PARK</td>\n",
       "    </tr>\n",
       "    <tr>\n",
       "      <th>3</th>\n",
       "      <td>5</td>\n",
       "      <td>TOM</td>\n",
       "    </tr>\n",
       "  </tbody>\n",
       "</table>\n",
       "</div>"
      ],
      "text/plain": [
       "   id  name\n",
       "2   4  PARK\n",
       "3   5   TOM"
      ]
     },
     "execution_count": 256,
     "metadata": {},
     "output_type": "execute_result"
    }
   ],
   "source": [
    "new_rows = []\n",
    "\n",
    "for _, row_2 in df2.iterrows():\n",
    "    is_match_row = False\n",
    "    for _, row_1 in df1.iterrows():\n",
    "        is_match_columns = True\n",
    "        for c_name in df1.columns:\n",
    "            if row_2[c_name] != row_1[c_name]:\n",
    "                is_match_columns = False\n",
    "                break\n",
    "                \n",
    "        if is_match_columns:\n",
    "            is_match_row = True\n",
    "\n",
    "    if not is_match_row:\n",
    "        new_rows.append(row_2)\n",
    "        \n",
    "df_diff_2 = pd.DataFrame(new_rows)\n",
    "df_diff_2"
   ]
  },
  {
   "cell_type": "code",
   "execution_count": 257,
   "id": "d661ebdd-4136-4e32-bb93-51cfa9045eff",
   "metadata": {},
   "outputs": [],
   "source": [
    "# pandas merge 기능 사용한 코드 SQL에서 right join과 유사.\n",
    "\n",
    "merge_df = pd.merge(df1, df2, how='right', indicator=True)"
   ]
  },
  {
   "cell_type": "code",
   "execution_count": 258,
   "id": "90df2374-4c1b-434c-b6ca-14f5149f5eae",
   "metadata": {
    "scrolled": true
   },
   "outputs": [
    {
     "data": {
      "text/html": [
       "<div>\n",
       "<style scoped>\n",
       "    .dataframe tbody tr th:only-of-type {\n",
       "        vertical-align: middle;\n",
       "    }\n",
       "\n",
       "    .dataframe tbody tr th {\n",
       "        vertical-align: top;\n",
       "    }\n",
       "\n",
       "    .dataframe thead th {\n",
       "        text-align: right;\n",
       "    }\n",
       "</style>\n",
       "<table border=\"1\" class=\"dataframe\">\n",
       "  <thead>\n",
       "    <tr style=\"text-align: right;\">\n",
       "      <th></th>\n",
       "      <th>id</th>\n",
       "      <th>name</th>\n",
       "      <th>_merge</th>\n",
       "    </tr>\n",
       "  </thead>\n",
       "  <tbody>\n",
       "    <tr>\n",
       "      <th>0</th>\n",
       "      <td>2</td>\n",
       "      <td>MIN</td>\n",
       "      <td>both</td>\n",
       "    </tr>\n",
       "    <tr>\n",
       "      <th>1</th>\n",
       "      <td>3</td>\n",
       "      <td>LEE</td>\n",
       "      <td>both</td>\n",
       "    </tr>\n",
       "    <tr>\n",
       "      <th>2</th>\n",
       "      <td>4</td>\n",
       "      <td>PARK</td>\n",
       "      <td>right_only</td>\n",
       "    </tr>\n",
       "    <tr>\n",
       "      <th>3</th>\n",
       "      <td>5</td>\n",
       "      <td>TOM</td>\n",
       "      <td>right_only</td>\n",
       "    </tr>\n",
       "  </tbody>\n",
       "</table>\n",
       "</div>"
      ],
      "text/plain": [
       "   id  name      _merge\n",
       "0   2   MIN        both\n",
       "1   3   LEE        both\n",
       "2   4  PARK  right_only\n",
       "3   5   TOM  right_only"
      ]
     },
     "execution_count": 258,
     "metadata": {},
     "output_type": "execute_result"
    }
   ],
   "source": [
    "merge_df"
   ]
  },
  {
   "cell_type": "code",
   "execution_count": 259,
   "id": "fd562e09-29c4-4661-8326-962ec4a4ece9",
   "metadata": {},
   "outputs": [],
   "source": [
    "# pandas merge 기능 사용한 코드 . SQL에서 right join과 유사.\n",
    "\n",
    "merge_df = pd.merge(df1, df3, how='right', indicator=True)"
   ]
  },
  {
   "cell_type": "code",
   "execution_count": 260,
   "id": "30a53b96-8deb-42d3-8b19-bf538c912c9e",
   "metadata": {},
   "outputs": [
    {
     "data": {
      "text/html": [
       "<div>\n",
       "<style scoped>\n",
       "    .dataframe tbody tr th:only-of-type {\n",
       "        vertical-align: middle;\n",
       "    }\n",
       "\n",
       "    .dataframe tbody tr th {\n",
       "        vertical-align: top;\n",
       "    }\n",
       "\n",
       "    .dataframe thead th {\n",
       "        text-align: right;\n",
       "    }\n",
       "</style>\n",
       "<table border=\"1\" class=\"dataframe\">\n",
       "  <thead>\n",
       "    <tr style=\"text-align: right;\">\n",
       "      <th></th>\n",
       "      <th>id</th>\n",
       "      <th>name</th>\n",
       "    </tr>\n",
       "  </thead>\n",
       "  <tbody>\n",
       "    <tr>\n",
       "      <th>0</th>\n",
       "      <td>5</td>\n",
       "      <td>TOM</td>\n",
       "    </tr>\n",
       "    <tr>\n",
       "      <th>1</th>\n",
       "      <td>4</td>\n",
       "      <td>PARK</td>\n",
       "    </tr>\n",
       "  </tbody>\n",
       "</table>\n",
       "</div>"
      ],
      "text/plain": [
       "   id  name\n",
       "0   5   TOM\n",
       "1   4  PARK"
      ]
     },
     "execution_count": 260,
     "metadata": {},
     "output_type": "execute_result"
    }
   ],
   "source": [
    "df_diff_3 = merge_df[merge_df['_merge'] == 'right_only'].drop('_merge', axis=1)\n",
    "df_diff_3"
   ]
  },
  {
   "cell_type": "code",
   "execution_count": 261,
   "id": "c32c8125-1571-4ba3-af2c-3d2858892030",
   "metadata": {},
   "outputs": [],
   "source": [
    "merge_df = pd.merge(df1, df2, how='right', indicator=True)"
   ]
  },
  {
   "cell_type": "code",
   "execution_count": 262,
   "id": "d2c56f9a-ba8b-44fa-b9be-5dfc0f0d13c2",
   "metadata": {},
   "outputs": [],
   "source": [
    "#_merge == left_only인 것만 남기고\n",
    "#_merge 컬럼은 지우고\n",
    "\n",
    "#merge_df[merge_df['_merge'] == 'left_only'].drop('_merge', axis=1)"
   ]
  },
  {
   "cell_type": "code",
   "execution_count": 263,
   "id": "aba352f5-4151-4481-8bc9-416345ea29a4",
   "metadata": {},
   "outputs": [],
   "source": [
    "# pandas merge 기능 사용한 코드 SQL에서 inner join과 유사.\n",
    "\n",
    "#merge_df = pd.merge(df1, df2, how='inner', indicator=True)\n",
    "#merge_df"
   ]
  },
  {
   "cell_type": "code",
   "execution_count": 264,
   "id": "1ba2a42b-9899-4d1c-a254-f348ef87806e",
   "metadata": {},
   "outputs": [],
   "source": [
    "# pandas merge 기능 사용한 코드 SQL에서 outer join과 유사.\n",
    "\n",
    "#merge_df = pd.merge(df1, df2, how='outer', indicator=True)\n",
    "#merge_df"
   ]
  },
  {
   "cell_type": "code",
   "execution_count": 265,
   "id": "77a0106f-513a-4388-bdec-dcd8b0e1635e",
   "metadata": {},
   "outputs": [],
   "source": [
    "df_diff_1 = sqldf(query, locals())\n",
    "df_diff_2 = pd.DataFrame(new_rows)\n",
    "df_diff_3 = merge_df"
   ]
  },
  {
   "cell_type": "code",
   "execution_count": 266,
   "id": "2a4800cc-0717-4659-972b-88e8e506d3cb",
   "metadata": {},
   "outputs": [
    {
     "name": "stdout",
     "output_type": "stream",
     "text": [
      "   id  name\n",
      "0   4  PARK\n",
      "1   5   TOM\n"
     ]
    }
   ],
   "source": [
    "print(df_diff_1)"
   ]
  },
  {
   "cell_type": "code",
   "execution_count": 267,
   "id": "e90d7e9a-b2f2-49f4-91db-97e65398831e",
   "metadata": {},
   "outputs": [
    {
     "name": "stdout",
     "output_type": "stream",
     "text": [
      "   id  name\n",
      "2   4  PARK\n",
      "3   5   TOM\n"
     ]
    }
   ],
   "source": [
    "print(df_diff_2)"
   ]
  },
  {
   "cell_type": "code",
   "execution_count": 268,
   "id": "8ace99be-c3d6-407d-94ee-73a7c7a08c21",
   "metadata": {},
   "outputs": [
    {
     "name": "stdout",
     "output_type": "stream",
     "text": [
      "   id  name      _merge\n",
      "0   2   MIN        both\n",
      "1   3   LEE        both\n",
      "2   4  PARK  right_only\n",
      "3   5   TOM  right_only\n"
     ]
    }
   ],
   "source": [
    "print(df_diff_3)"
   ]
  },
  {
   "cell_type": "code",
   "execution_count": 269,
   "id": "d9e59e8e-de65-4ae2-95f0-b75f0e7259dc",
   "metadata": {},
   "outputs": [
    {
     "data": {
      "text/plain": [
       "False"
      ]
     },
     "execution_count": 269,
     "metadata": {},
     "output_type": "execute_result"
    }
   ],
   "source": [
    "## TODO\n",
    "#df_diff_1, df_diff_2, df_diff_3 의 결과가 같은지 비교\n",
    "#df_diff_1 == df_diff_2 == df_diff_3\n",
    "df_diff_3.reset_index(drop=True).equals(df_diff_2.reset_index(drop=True))"
   ]
  },
  {
   "cell_type": "code",
   "execution_count": 270,
   "id": "5d42aaa5-4505-444a-bd7d-e17dc66105f0",
   "metadata": {},
   "outputs": [
    {
     "data": {
      "text/plain": [
       "False"
      ]
     },
     "execution_count": 270,
     "metadata": {},
     "output_type": "execute_result"
    }
   ],
   "source": [
    "df_diff_1.reset_index(drop=True).equals(df_diff_3.reset_index(drop=True))"
   ]
  },
  {
   "cell_type": "code",
   "execution_count": 271,
   "id": "4ebede71-6adf-4dd7-900b-541b9401031c",
   "metadata": {},
   "outputs": [
    {
     "data": {
      "text/html": [
       "<div>\n",
       "<style scoped>\n",
       "    .dataframe tbody tr th:only-of-type {\n",
       "        vertical-align: middle;\n",
       "    }\n",
       "\n",
       "    .dataframe tbody tr th {\n",
       "        vertical-align: top;\n",
       "    }\n",
       "\n",
       "    .dataframe thead th {\n",
       "        text-align: right;\n",
       "    }\n",
       "</style>\n",
       "<table border=\"1\" class=\"dataframe\">\n",
       "  <thead>\n",
       "    <tr style=\"text-align: right;\">\n",
       "      <th></th>\n",
       "      <th>id</th>\n",
       "      <th>name</th>\n",
       "      <th>_merge</th>\n",
       "    </tr>\n",
       "  </thead>\n",
       "  <tbody>\n",
       "    <tr>\n",
       "      <th>0</th>\n",
       "      <td>2</td>\n",
       "      <td>MIN</td>\n",
       "      <td>both</td>\n",
       "    </tr>\n",
       "    <tr>\n",
       "      <th>1</th>\n",
       "      <td>3</td>\n",
       "      <td>LEE</td>\n",
       "      <td>both</td>\n",
       "    </tr>\n",
       "    <tr>\n",
       "      <th>2</th>\n",
       "      <td>4</td>\n",
       "      <td>PARK</td>\n",
       "      <td>right_only</td>\n",
       "    </tr>\n",
       "    <tr>\n",
       "      <th>3</th>\n",
       "      <td>5</td>\n",
       "      <td>TOM</td>\n",
       "      <td>right_only</td>\n",
       "    </tr>\n",
       "  </tbody>\n",
       "</table>\n",
       "</div>"
      ],
      "text/plain": [
       "   id  name      _merge\n",
       "0   2   MIN        both\n",
       "1   3   LEE        both\n",
       "2   4  PARK  right_only\n",
       "3   5   TOM  right_only"
      ]
     },
     "execution_count": 271,
     "metadata": {},
     "output_type": "execute_result"
    }
   ],
   "source": [
    "df_diff_3.sort_values(by=['id','name']).reset_index(drop=True)"
   ]
  },
  {
   "cell_type": "code",
   "execution_count": 272,
   "id": "7eda45c2-cb99-44fe-9af1-2ccb721dfddb",
   "metadata": {},
   "outputs": [
    {
     "data": {
      "text/html": [
       "<div>\n",
       "<style scoped>\n",
       "    .dataframe tbody tr th:only-of-type {\n",
       "        vertical-align: middle;\n",
       "    }\n",
       "\n",
       "    .dataframe tbody tr th {\n",
       "        vertical-align: top;\n",
       "    }\n",
       "\n",
       "    .dataframe thead th {\n",
       "        text-align: right;\n",
       "    }\n",
       "</style>\n",
       "<table border=\"1\" class=\"dataframe\">\n",
       "  <thead>\n",
       "    <tr style=\"text-align: right;\">\n",
       "      <th></th>\n",
       "      <th>id</th>\n",
       "      <th>name</th>\n",
       "    </tr>\n",
       "  </thead>\n",
       "  <tbody>\n",
       "    <tr>\n",
       "      <th>0</th>\n",
       "      <td>4</td>\n",
       "      <td>PARK</td>\n",
       "    </tr>\n",
       "    <tr>\n",
       "      <th>1</th>\n",
       "      <td>5</td>\n",
       "      <td>TOM</td>\n",
       "    </tr>\n",
       "  </tbody>\n",
       "</table>\n",
       "</div>"
      ],
      "text/plain": [
       "   id  name\n",
       "0   4  PARK\n",
       "1   5   TOM"
      ]
     },
     "execution_count": 272,
     "metadata": {},
     "output_type": "execute_result"
    }
   ],
   "source": [
    "df_diff_1.sort_values(by=['id','name']).reset_index(drop=True)"
   ]
  },
  {
   "cell_type": "code",
   "execution_count": 273,
   "id": "9b7f2fd1-ad24-4491-8321-fb3a97ef4914",
   "metadata": {},
   "outputs": [
    {
     "data": {
      "text/plain": [
       "['id', 'name', '_merge']"
      ]
     },
     "execution_count": 273,
     "metadata": {},
     "output_type": "execute_result"
    }
   ],
   "source": [
    "df_diff_3.columns.tolist()"
   ]
  },
  {
   "cell_type": "code",
   "execution_count": 274,
   "id": "4ef6b3af-1024-4a03-adbd-09a3cb55a090",
   "metadata": {},
   "outputs": [
    {
     "data": {
      "text/plain": [
       "False"
      ]
     },
     "execution_count": 274,
     "metadata": {},
     "output_type": "execute_result"
    }
   ],
   "source": [
    "d3 = df_diff_3.sort_values(by=['id','name']).reset_index(drop=True)\n",
    "d1 = df_diff_1.sort_values(by=['id','name']).reset_index(drop=True)\n",
    "d3.equals(d1)"
   ]
  }
 ],
 "metadata": {
  "kernelspec": {
   "display_name": "Python 3 (ipykernel)",
   "language": "python",
   "name": "python3"
  },
  "language_info": {
   "codemirror_mode": {
    "name": "ipython",
    "version": 3
   },
   "file_extension": ".py",
   "mimetype": "text/x-python",
   "name": "python",
   "nbconvert_exporter": "python",
   "pygments_lexer": "ipython3",
   "version": "3.10.12"
  }
 },
 "nbformat": 4,
 "nbformat_minor": 5
}
